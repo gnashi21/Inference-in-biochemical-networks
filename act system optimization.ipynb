{
 "cells": [
  {
   "cell_type": "code",
   "execution_count": 1,
   "id": "a930e953",
   "metadata": {},
   "outputs": [],
   "source": [
    "import numpy as np\n",
    "import matplotlib.pyplot as plt\n",
    "import gillespy2\n",
    "from scipy.optimize import minimize"
   ]
  },
  {
   "cell_type": "code",
   "execution_count": 2,
   "id": "5845ea55",
   "metadata": {},
   "outputs": [],
   "source": [
    "#Repressor System\n",
    "def CLE(beta1, k1, n1, alpha, dt):\n",
    "    x = [x0]\n",
    "    for i in range(len(t) - 1):\n",
    "        dxi = np.random.normal(0, 1, 3) \n",
    "        x_curr = x[-1]\n",
    "        \n",
    "        \n",
    "\n",
    "        F = (beta1 * (pow(k1, n1) )/ (pow(k1, n1) + pow(x_curr, n1)) -\n",
    "            alpha * x_curr)\n",
    "        \n",
    "        G = (\n",
    "            np.sqrt(beta1 * (pow(k1, n1) / (pow(k1, n1) + pow(x_curr, n1)))) * dxi[0] +\n",
    "            \n",
    "            np.sqrt(alpha * x_curr) * dxi[1])\n",
    "        \n",
    "        x_next = x_curr + dt * F + np.sqrt(dt) * G\n",
    "\n",
    "        x = np.hstack([x, x_next])\n",
    "    return x"
   ]
  },
  {
   "cell_type": "code",
   "execution_count": 34,
   "id": "c96bc6d5",
   "metadata": {},
   "outputs": [],
   "source": [
    "beta1=10\n",
    "k1=500\n",
    "n1=1\n",
    "alpha=0.02\n",
    "t = np.linspace(10000,100000,10000)\n",
    "dt = t[1] - t[0]\n",
    "x0=200\n",
    "x_cle = CLE( beta1,k1, n1, alpha, dt)\n",
    "x_cle_trimmed = x_cle[1000:]\n",
    "\n"
   ]
  },
  {
   "cell_type": "code",
   "execution_count": 35,
   "id": "9ad0d25f",
   "metadata": {},
   "outputs": [
    {
     "data": {
      "text/plain": [
       "309.76639613838546"
      ]
     },
     "execution_count": 35,
     "metadata": {},
     "output_type": "execute_result"
    }
   ],
   "source": [
    "np.mean(x_cle_trimmed)"
   ]
  },
  {
   "cell_type": "code",
   "execution_count": 36,
   "id": "4bfe6dd7",
   "metadata": {},
   "outputs": [
    {
     "data": {
      "text/plain": [
       "15.554132602772949"
      ]
     },
     "execution_count": 36,
     "metadata": {},
     "output_type": "execute_result"
    }
   ],
   "source": [
    "np.std(x_cle_trimmed)"
   ]
  },
  {
   "cell_type": "code",
   "execution_count": 37,
   "id": "e426348e",
   "metadata": {},
   "outputs": [],
   "source": [
    "def f_rep(x_cle_trimmed, k1, n1, beta1):\n",
    "    return beta1 * (pow(k1, n1) / (pow(k1, n1) + pow(x_cle_trimmed, n1)))\n",
    "\n",
    "def f_act(x_cle_trimmed, n2, k2, beta2):\n",
    "    return beta2 * (pow(x_cle_trimmed, n2) / (pow(k2, n2) + pow(x_cle_trimmed, n2)))\n",
    "\n",
    "def f_deg(x, alpha):\n",
    "    return alpha * x_cle_trimmed"
   ]
  },
  {
   "cell_type": "code",
   "execution_count": 38,
   "id": "03521b16",
   "metadata": {},
   "outputs": [
    {
     "name": "stdout",
     "output_type": "stream",
     "text": [
      "fix_rep: 309.01699437494744\n"
     ]
    }
   ],
   "source": [
    "\n",
    "\n",
    "def fixed_point_rep(x_cle_trimmed, beta1, k1, n1, alpha):\n",
    "    try:\n",
    "        fix_rep_pt = (-alpha * k1 + np.sqrt((k1**2) * (alpha**2) + 4 * alpha * k1*beta1)) / (2 * alpha)\n",
    "        return fix_rep_pt\n",
    "    except ValueError as e:\n",
    "        print(f\"Error: {e}\")\n",
    "        return None\n",
    "\n",
    "fix_rep_pt = fixed_point_rep(x_cle_trimmed, beta1, k1, n1, alpha)\n",
    "if fix_rep_pt is not None:\n",
    "    print('fix_rep:', fix_rep_pt)\n"
   ]
  },
  {
   "cell_type": "code",
   "execution_count": 39,
   "id": "f8161254",
   "metadata": {},
   "outputs": [],
   "source": [
    "A=(beta1 * n1 * pow(k1, n1) * pow(fix_rep_pt, n1 - 1))/((pow(fix_rep_pt, n1) + pow(k1, n1))**2) +alpha\n",
    "B=(beta1 * pow(k1, n1))/(pow(fix_rep_pt, n1) + pow(k1, n1))+alpha*fix_rep_pt\n",
    "   "
   ]
  },
  {
   "cell_type": "code",
   "execution_count": 40,
   "id": "fc17dbe2",
   "metadata": {},
   "outputs": [
    {
     "data": {
      "text/plain": [
       "14.953487812212206"
      ]
     },
     "execution_count": 40,
     "metadata": {},
     "output_type": "execute_result"
    }
   ],
   "source": [
    "np.sqrt(B/(2*A))"
   ]
  },
  {
   "cell_type": "code",
   "execution_count": 41,
   "id": "57b7217b",
   "metadata": {},
   "outputs": [],
   "source": [
    "def fixed_point_act(x_cle_trimmed, beta2, k2, n2, alpha):\n",
    "    try:\n",
    "        fix_act_pt = (beta2 - alpha * k2) / alpha\n",
    "        return fix_act_pt\n",
    "    except ValueError as e:\n",
    "        print(f\"Error: {e}\")\n",
    "        return None\n"
   ]
  },
  {
   "cell_type": "code",
   "execution_count": 42,
   "id": "4940178f",
   "metadata": {},
   "outputs": [],
   "source": [
    "def A_r(fix_act_pt, beta2, n2, K2, alpha):\n",
    "    denominator = pow(fix_act_pt, n2) + pow(K2, n2)\n",
    "    numerator = -beta2 * n2 * pow(K2, n2) * pow(fix_act_pt, n2 - 1)\n",
    "    result = (numerator / pow(denominator, 2)) + alpha\n",
    "    return result\n",
    "\n",
    "def B_r(fix_act_pt, beta2, n2, K2, alpha):\n",
    "    denominator = pow(fix_act_pt, n2) + pow(K2, n2)\n",
    "    numerator = beta2 * pow(fix_act_pt, n2)\n",
    "    result = (numerator / denominator) + alpha * fix_act_pt\n",
    "    return result\n"
   ]
  },
  {
   "cell_type": "code",
   "execution_count": 48,
   "id": "715873a7",
   "metadata": {},
   "outputs": [],
   "source": [
    "def cost_function(params, fix_rep_pt, x_cle_trimmed, k1, beta1, alpha, n2):\n",
    "    beta2, K2 = params\n",
    "    \n",
    "    fix_act_pt = fixed_point_act(x_cle_trimmed, beta2, K2, n2, alpha)\n",
    "    \n",
    "    A = (beta1 * n1 * pow(k1, n1) * pow(fix_rep_pt, n1 - 1)) / ((pow(fix_rep_pt, n1) + pow(k1, n1))**2) + alpha\n",
    "    B = (beta1 * pow(k1, n1)) / (pow(fix_rep_pt, n1) + pow(k1, n1)) + alpha * fix_rep_pt\n",
    "   \n",
    "    A_r_val = A_r(fix_act_pt, beta2, n2, K2, alpha)\n",
    "    B_r_val = B_r(fix_act_pt, beta2, n2, K2, alpha)\n",
    "    \n",
    "    expression_diff = np.abs(B / (2 * A) - B_r_val / (2 * A_r_val))**2 + 10* np.abs(fix_act_pt - fix_rep_pt)**2\n",
    "    \n",
    "    return np.sum(expression_diff)\n"
   ]
  },
  {
   "cell_type": "code",
   "execution_count": 56,
   "id": "add85126",
   "metadata": {},
   "outputs": [
    {
     "name": "stdout",
     "output_type": "stream",
     "text": [
      "Optimized parameters (beta2, K2): [6.02504859 0.00000021]\n"
     ]
    }
   ],
   "source": [
    "# Set up the bounds\n",
    "bounds_definition = [(0, None), (0, None)] \n",
    "n2 = 1\n",
    "\n",
    "initial_guess = [0.1, 1]\n",
    "\n",
    "result = minimize(cost_function, initial_guess, args=(fix_rep_pt, x_cle_trimmed, k1, beta1, alpha, n1),\n",
    "                  method='trust-constr', tol=1e-6, options={'maxiter': 1000},\n",
    "                  bounds=bounds_definition)\n",
    "\n",
    "optimized_params = result.x\n",
    "\n",
    "print(\"Optimized parameters (beta2, K2):\", optimized_params)\n",
    "\n"
   ]
  },
  {
   "cell_type": "code",
   "execution_count": 57,
   "id": "cfb11753",
   "metadata": {},
   "outputs": [
    {
     "name": "stdout",
     "output_type": "stream",
     "text": [
      "Fixed point value at optimized parameters: 301.25242928999995\n"
     ]
    }
   ],
   "source": [
    "optimized_params = [6.02504859 ,0.00000021]\n",
    "\n",
    "\n",
    "fix_act_pt_optimized = fixed_point_act(x_cle_trimmed, optimized_params[0], optimized_params[1], n2, alpha)\n",
    "print(\"Fixed point value at optimized parameters:\", fix_act_pt_optimized)"
   ]
  },
  {
   "cell_type": "code",
   "execution_count": 58,
   "id": "a1e14087",
   "metadata": {},
   "outputs": [
    {
     "name": "stdout",
     "output_type": "stream",
     "text": [
      "0.019999999986058205\n",
      "12.050097171600001\n",
      "301.2524295\n"
     ]
    }
   ],
   "source": [
    "A_r_val = A_r(fix_act_pt_optimized ,optimized_params[0], n2, optimized_params[1], alpha)\n",
    "print(A_r_val)\n",
    "B_r_val = B_r(fix_act_pt_optimized ,optimized_params[0], n2, optimized_params[1], alpha)\n",
    "print(B_r_val)\n",
    "print(B_r_val/(2*A_r_val))"
   ]
  },
  {
   "cell_type": "code",
   "execution_count": 59,
   "id": "45c94087",
   "metadata": {},
   "outputs": [
    {
     "name": "stdout",
     "output_type": "stream",
     "text": [
      "17.356624945535927\n"
     ]
    }
   ],
   "source": [
    "print(np.sqrt(B_r_val/(2*A_r_val)))#repressor variance "
   ]
  },
  {
   "cell_type": "code",
   "execution_count": null,
   "id": "51735e16",
   "metadata": {},
   "outputs": [],
   "source": []
  },
  {
   "cell_type": "code",
   "execution_count": null,
   "id": "8bd2dc5b",
   "metadata": {},
   "outputs": [],
   "source": []
  }
 ],
 "metadata": {
  "kernelspec": {
   "display_name": "Python 3 (ipykernel)",
   "language": "python",
   "name": "python3"
  },
  "language_info": {
   "codemirror_mode": {
    "name": "ipython",
    "version": 3
   },
   "file_extension": ".py",
   "mimetype": "text/x-python",
   "name": "python",
   "nbconvert_exporter": "python",
   "pygments_lexer": "ipython3",
   "version": "3.11.4"
  }
 },
 "nbformat": 4,
 "nbformat_minor": 5
}
