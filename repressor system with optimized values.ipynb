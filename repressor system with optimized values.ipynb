{
 "cells": [
  {
   "cell_type": "code",
   "execution_count": 33,
   "id": "962576a8",
   "metadata": {},
   "outputs": [],
   "source": [
    "import numpy as np\n",
    "\n",
    "import matplotlib.pyplot as plt"
   ]
  },
  {
   "cell_type": "code",
   "execution_count": 34,
   "id": "2ef8defb",
   "metadata": {},
   "outputs": [],
   "source": [
    "def CLE(beta1, k1, n1, alpha, dt):\n",
    "    x = [x0]\n",
    "    for i in range(len(t) - 1):\n",
    "        dxi = np.random.normal(0, 1, 3) \n",
    "        x_curr = x[-1]\n",
    "        \n",
    "        \n",
    "\n",
    "        F = (beta1 * (pow(k1, n1) )/ (pow(k1, n1) + pow(x_curr, n1)) -\n",
    "            alpha * x_curr)\n",
    "        \n",
    "        G = (\n",
    "            np.sqrt(beta1 * (pow(k1, n1) / (pow(k1, n1) + pow(x_curr, n1)))) * dxi[0] +\n",
    "            \n",
    "            np.sqrt(alpha * x_curr) * dxi[1])\n",
    "        \n",
    "        x_next = x_curr + dt * F + np.sqrt(dt) * G\n",
    "\n",
    "        x = np.hstack([x, x_next])\n",
    "    return x"
   ]
  },
  {
   "cell_type": "code",
   "execution_count": 37,
   "id": "2c754b59",
   "metadata": {},
   "outputs": [],
   "source": [
    " \n",
    "beta1=19.5868779 \n",
    "k1=942184.45824516\n",
    "n1=1\n",
    "alpha=0.01\n",
    "t = np.linspace(10000,100000,10000)\n",
    "dt = t[1] - t[0]\n",
    "x0=200\n",
    "x_cle = CLE( beta1,k1, n1, alpha, dt)\n",
    "x_cle_trimmed = x_cle[1000:]\n",
    "\n"
   ]
  },
  {
   "cell_type": "code",
   "execution_count": 38,
   "id": "fe253d97",
   "metadata": {},
   "outputs": [
    {
     "data": {
      "text/plain": [
       "1952.0652933436434"
      ]
     },
     "execution_count": 38,
     "metadata": {},
     "output_type": "execute_result"
    }
   ],
   "source": [
    "np.mean(x_cle_trimmed)"
   ]
  },
  {
   "cell_type": "code",
   "execution_count": 39,
   "id": "bc12d0ee",
   "metadata": {},
   "outputs": [
    {
     "data": {
      "text/plain": [
       "44.20432935826475"
      ]
     },
     "execution_count": 39,
     "metadata": {},
     "output_type": "execute_result"
    }
   ],
   "source": [
    "np.std(x_cle_trimmed)"
   ]
  },
  {
   "cell_type": "code",
   "execution_count": null,
   "id": "126fb9ab",
   "metadata": {},
   "outputs": [],
   "source": [
    "\n"
   ]
  },
  {
   "cell_type": "code",
   "execution_count": null,
   "id": "fda9b619",
   "metadata": {},
   "outputs": [],
   "source": []
  }
 ],
 "metadata": {
  "kernelspec": {
   "display_name": "Python 3 (ipykernel)",
   "language": "python",
   "name": "python3"
  },
  "language_info": {
   "codemirror_mode": {
    "name": "ipython",
    "version": 3
   },
   "file_extension": ".py",
   "mimetype": "text/x-python",
   "name": "python",
   "nbconvert_exporter": "python",
   "pygments_lexer": "ipython3",
   "version": "3.11.4"
  }
 },
 "nbformat": 4,
 "nbformat_minor": 5
}
